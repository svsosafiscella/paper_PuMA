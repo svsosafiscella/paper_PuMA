{
 "cells": [
  {
   "cell_type": "markdown",
   "metadata": {},
   "source": [
    "### Programa que calcula los TOAs y residuos de las observaciones"
   ]
  },
  {
   "cell_type": "markdown",
   "metadata": {},
   "source": [
    "Importamos los paquetes que vamos a usar"
   ]
  },
  {
   "cell_type": "code",
   "execution_count": null,
   "metadata": {
    "collapsed": true
   },
   "outputs": [],
   "source": [
    "import numpy as np\n",
    "import glob                         # para hacer listas de archivo\n",
    "import subprocess                   # para usar subprocesos\n",
    "\n",
    "import os\n",
    "import shutil"
   ]
  },
  {
   "cell_type": "markdown",
   "metadata": {},
   "source": [
    "Cargamos los tobs"
   ]
  },
  {
   "cell_type": "code",
   "execution_count": null,
   "metadata": {
    "collapsed": true
   },
   "outputs": [],
   "source": [
    "datafile = \"results_total.txt\"                                                  # archivo que contiene los tobs y S/N\n",
    "\n",
    "files = np.loadtxt( datafile , skiprows=0 , dtype=str , usecols=(0) )\n",
    "sn_obs = np.loadtxt( datafile , skiprows=0 , dtype=float , usecols=(1) )\n",
    "t_obs = np.loadtxt( datafile , skiprows=0 , dtype=float , usecols=(2) )"
   ]
  },
  {
   "cell_type": "markdown",
   "metadata": {},
   "source": [
    "Parámetros usados"
   ]
  },
  {
   "cell_type": "code",
   "execution_count": null,
   "metadata": {
    "collapsed": true
   },
   "outputs": [],
   "source": [
    "tmin = (2500/60)/2                # tiempo mínimo que deben durar las observaciones (min)\n",
    "\n",
    "tim_out = \"J0437-4715.tim\"        # nombre del archivo .tim de salida\n",
    "template = \"J0437-4715.std\"       # template a usar\n",
    "parfile = \"J0437-4715_JUMPS.par\"  # nombre del archivo .par"
   ]
  },
  {
   "cell_type": "markdown",
   "metadata": {},
   "source": [
    "Calculamos TOAs"
   ]
  },
  {
   "cell_type": "code",
   "execution_count": null,
   "metadata": {
    "collapsed": true
   },
   "outputs": [],
   "source": [
    "dirName = './pfds/'\n",
    "\n",
    "os.chdir(dirName)                                       # entramos al directorio que contiene los .pfds\n",
    "pfd_files = glob.glob('*pfd')                           # lista de archivos .pfd\n",
    "\n",
    "print(\"Número de observaciones : \" + str((len(pfd_files))))\n",
    "\n",
    "# primero, generamos un string que contenga todos los archivos .pfd\n",
    "\n",
    "archivos = ''\n",
    "for pfd in pfd_files:\n",
    "    if  t_obs[ np.where(files == pfd)[0][0] ] > tmin # pedimos que las observaciones duren al menos t_min  \n",
    "        \n",
    "        archivos = archivos + pfd + ' '\n",
    "        \n",
    "# ahora llamamos a pat para generar el archivo .tim\n",
    "    \n",
    "subprocess.call(\"pat -FT -A PGS -s \" + template + \" -f >\" + tim_out + \" 'tempo2' \" + archivos, shell = True)\n",
    "    \n",
    "os.chdir('..')                                 # salimos del directorio que contiene los .pfds\n",
    "    \n",
    "shutil.copy(dirName + tim_out, \"./\")           # copiamos el archivo .tim a la carpeta"
   ]
  },
  {
   "cell_type": "markdown",
   "metadata": {},
   "source": [
    "Calculamos residuos"
   ]
  },
  {
   "cell_type": "code",
   "execution_count": null,
   "metadata": {
    "collapsed": true
   },
   "outputs": [],
   "source": [
    "resfile = \"./residues_.dat\"   # nombre del archivo de residuos\n",
    "        \n",
    "subprocess.check_call( \"tempo2 >\" + resfile + \" -us -f \" + parfile + \" \" + tim_out, shell = True)       # calculamos los residuos\n",
    "    \n",
    "rms = np.genfromtxt ( resfile, comments=\"none\", dtype=float, skip_header=21, max_rows=1, usecols=(10) ) # buscamos el RMS\n",
    "\n",
    "print(\"RMS = \" + str(rms))"
   ]
  }
 ],
 "metadata": {
  "kernelspec": {
   "display_name": "Python 3",
   "language": "python",
   "name": "python3"
  },
  "language_info": {
   "codemirror_mode": {
    "name": "ipython",
    "version": 3
   },
   "file_extension": ".py",
   "mimetype": "text/x-python",
   "name": "python",
   "nbconvert_exporter": "python",
   "pygments_lexer": "ipython3",
   "version": "3.6.2"
  }
 },
 "nbformat": 4,
 "nbformat_minor": 2
}
