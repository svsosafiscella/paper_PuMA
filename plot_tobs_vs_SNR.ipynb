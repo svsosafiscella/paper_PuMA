{
 "cells": [
  {
   "cell_type": "markdown",
   "metadata": {},
   "source": [
    "### Programa para graficar $t_{\\mathrm{obs}}$ vs S/R"
   ]
  },
  {
   "cell_type": "markdown",
   "metadata": {},
   "source": [
    "Importamos los paquetes que vamos a usar"
   ]
  },
  {
   "cell_type": "code",
   "execution_count": null,
   "metadata": {
    "collapsed": true
   },
   "outputs": [],
   "source": [
    "import matplotlib.mlab as mlab\n",
    "import matplotlib as mpl\n",
    "import matplotlib.pyplot as plt     # para graficar\n",
    "from matplotlib import pyplot\n",
    "\n",
    "from scipy.optimize import curve_fit\n",
    "\n",
    "import math\n",
    "import decimal\n",
    "import numpy as np\n",
    "import glob                         # para hacer listas de archivo\n",
    "import subprocess                   # para usar subprocesos\n",
    "\n",
    "import os\n",
    "import shutil"
   ]
  },
  {
   "cell_type": "markdown",
   "metadata": {},
   "source": [
    "Cargamos las observaciones"
   ]
  },
  {
   "cell_type": "code",
   "execution_count": null,
   "metadata": {
    "collapsed": true
   },
   "outputs": [],
   "source": [
    "snA1 = np.loadtxt( \"./results_A1.txt\" , skiprows=0 , dtype=float , usecols=(1) )\n",
    "tobsA1 = np.loadtxt( \"./results_A1txt\" , skiprows=0 , dtype=float , usecols=(2) )\n",
    "\n",
    "snA2 = np.loadtxt( \"./results_A2.txt\" , skiprows=0 , dtype=float , usecols=(1) )\n",
    "tobsA2 = np.loadtxt( \"./results_A2.txt\" , skiprows=0 , dtype=float , usecols=(2) )"
   ]
  },
  {
   "cell_type": "markdown",
   "metadata": {},
   "source": [
    "Definimos la función a ajustar."
   ]
  },
  {
   "cell_type": "code",
   "execution_count": null,
   "metadata": {
    "collapsed": true
   },
   "outputs": [],
   "source": [
    "def f(t, b):\n",
    "    return b * np.sqrt(t)"
   ]
  },
  {
   "cell_type": "markdown",
   "metadata": {},
   "source": [
    "Ajustamos la función"
   ]
  },
  {
   "cell_type": "code",
   "execution_count": null,
   "metadata": {
    "collapsed": true
   },
   "outputs": [],
   "source": [
    "popt_A1, pcov_A1 = curve_fit(f, tobs_A1, sn_A1)\n",
    "popt_A2, pcov_A2 = curve_fit(f, tobs_A2, sn_A2)\n",
    "\n",
    "print(popt_A1)\n",
    "print(popt_A2)\n",
    "\n",
    "t1 = np.arange(0.0, 220.0, 1)\n",
    "t2 = np.arange(0.0, 220.0, 1)\n",
    "\n",
    "f1 = popt_A1[0] * np.sqrt(t1)\n",
    "f2 = popt_A2[0] * np.sqrt(t1)"
   ]
  },
  {
   "cell_type": "markdown",
   "metadata": {},
   "source": [
    "Graficamos los resultados"
   ]
  },
  {
   "cell_type": "code",
   "execution_count": null,
   "metadata": {
    "collapsed": true
   },
   "outputs": [],
   "source": [
    "plt.close()\n",
    "\n",
    "# Set the fonts. Always use big fonts.\n",
    "nice_fonts = {\n",
    "        # Use LaTeX to write all text\n",
    "        \"text.usetex\": True,\n",
    "        \"font.family\": \"serif\",\n",
    "        # Use 10pt font in plots, to match 10pt font in document\n",
    "        \"axes.labelsize\": 30,\n",
    "        \"font.size\": 28,\n",
    "        \"axes.linewidth\": 1.5,\n",
    "        # Make the legend/label fonts a little smaller\n",
    "        \"legend.fontsize\": 32,\n",
    "        \"xtick.labelsize\": 26,\n",
    "        \"ytick.labelsize\": 26,\n",
    "}\n",
    "# Update the fonts\n",
    "mpl.rcParams.update(nice_fonts)\n",
    "#plt.tight_layout()\n",
    "\n",
    "\n",
    "plt.figure(figsize=(12,10))\n",
    "\n",
    "#plt.xlim(10, 220)     # set the xlim to left, right\n",
    "plt.xticks([10, 50, 100, 150, 200])\n",
    "\n",
    "\n",
    "plt.rc('text', usetex=True)\n",
    "plt.rc('font', family='serif', size=\"22\")\n",
    "plt.rc('lines', linewidth=1.2)\n",
    "\n",
    "plt.plot(t1, f1, linewidth=4, ls = '-.', alpha=0.7)\n",
    "plt.plot(t2, f2, linewidth=4, ls = '--', alpha=0.7)\n",
    "\n",
    "plt.scatter(tobsA1, snA1, label= 'A1', marker=\"s\")\n",
    "plt.scatter(tobsA2, snA2, label= 'A2', marker=\"^\")\n",
    "\n",
    "plt.legend( loc='upper left', fontsize=27)\n",
    "\n",
    "plt.xlabel('$t_\\mathrm{obs}$ [minutos]')\n",
    "plt.ylabel('S/N')\n",
    "plt.savefig('plot_tobs_sn.pdf', bbox_inches='tight')\n",
    "plt.show()\n"
   ]
  }
 ],
 "metadata": {
  "kernelspec": {
   "display_name": "Python 3",
   "language": "python",
   "name": "python3"
  },
  "language_info": {
   "codemirror_mode": {
    "name": "ipython",
    "version": 3
   },
   "file_extension": ".py",
   "mimetype": "text/x-python",
   "name": "python",
   "nbconvert_exporter": "python",
   "pygments_lexer": "ipython3",
   "version": "3.6.2"
  }
 },
 "nbformat": 4,
 "nbformat_minor": 2
}
