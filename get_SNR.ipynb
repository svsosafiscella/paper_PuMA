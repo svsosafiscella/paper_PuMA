{
 "cells": [
  {
   "cell_type": "markdown",
   "metadata": {
    "collapsed": true
   },
   "source": [
    "### Programa para calcular $t_{\\mathrm{obs}}$ y $S/N$ de las observaciones"
   ]
  },
  {
   "cell_type": "markdown",
   "metadata": {},
   "source": [
    "Importamos los paquetes que vamos a usar"
   ]
  },
  {
   "cell_type": "code",
   "execution_count": null,
   "metadata": {
    "collapsed": true
   },
   "outputs": [],
   "source": [
    "import pypulse as pulsar\n",
    "\n",
    "import numpy as np\n",
    "import glob                         # para hacer listas de archivo\n",
    "import subprocess                   # para usar subprocesos\n",
    "\n",
    "import os\n",
    "import shutil"
   ]
  },
  {
   "cell_type": "markdown",
   "metadata": {},
   "source": [
    "Definimos para qué antena vamos a tomar las observaciones."
   ]
  },
  {
   "cell_type": "code",
   "execution_count": 9,
   "metadata": {
    "collapsed": true
   },
   "outputs": [],
   "source": [
    "ant = \"A2\""
   ]
  },
  {
   "cell_type": "markdown",
   "metadata": {},
   "source": [
    "Analizamos las observaciones usando PyPulse"
   ]
  },
  {
   "cell_type": "code",
   "execution_count": null,
   "metadata": {
    "collapsed": true
   },
   "outputs": [],
   "source": [
    "# Creamos una lista con todos los archivos .pfd de observaciones\n",
    "\n",
    "os.chdir('./pfds/')       # entramos al directorio que contiene los .pfds\n",
    "pfd_files = glob.glob('*' + ant + '*pfd')                           # lista de archivos .pfd\n",
    "print(\"Numero de observaciones = \" + str(len(pfd_files)))\n",
    "\n",
    "# Convert PFD files to PSRFITS\n",
    "\n",
    "for pfd in pfd_files:\n",
    "    subprocess.check_call(['psrconv','-o','PSRFITS','-e','fits',pfd])\n",
    "    \n",
    "# Save all PSRFITS files\n",
    "psrfits_files = glob.glob('*' + ant + '*fits')\n",
    "\n",
    "# Load all PSRFITS into PyPulse\n",
    "fits_pypulse= []\n",
    "for psrfits in psrfits_files:\n",
    "    temp_pypulse= pulsar.Archive(psrfits)\n",
    "    fits_pypulse.append(temp_pypulse)\n",
    "\n",
    "observations = dict(zip(psrfits_files, fits_pypulse))\n",
    "\n",
    "# Create single pulse object\n",
    "# Creat array of best profiles\n",
    "\n",
    "single_pulses=[]\n",
    "\n",
    "for observation in fits_pypulse:\n",
    "    \n",
    "    # First crunch in time and frequency\n",
    "    observation.fscrunch()\n",
    "    observation.tscrunch()\n",
    "    \n",
    "    # Now get array of the best profile\n",
    "    tmp_singlepulse = observation.getSinglePulses(windowsize=256)\n",
    "    \n",
    "    # Align and normalize\n",
    "    tmp_singlepulse.center_align()\n",
    "    tmp_singlepulse.normalize()\n",
    "    \n",
    "    # Save aligned and normalize in each observation\n",
    "    single_pulses.append(tmp_singlepulse)\n",
    "    \n",
    "# Save single pulse object\n",
    "sp_observations = dict(zip(psrfits_files, single_pulses))\n",
    "\n",
    "os.chdir('..')                                 # salimos del directorio que contiene los .pfds"
   ]
  },
  {
   "cell_type": "markdown",
   "metadata": {},
   "source": [
    "Calculamos y guardamos los valores de $t_{\\mathrm{obs}}$ y $S/N$"
   ]
  },
  {
   "cell_type": "code",
   "execution_count": null,
   "metadata": {
    "collapsed": true
   },
   "outputs": [],
   "source": [
    "files = []                                            # listado de observaciones\n",
    "list = open(\"./results_\" + ant + \".txt\", \"w+\")        # archivo que contendrá S/N y t_obs\n",
    "    \n",
    "for key in observations:\n",
    "        \n",
    "    time = (observations[key].getDuration())/60                        # calculamos el tiempo de integración en minutos\n",
    "    sn_obs = sp_observations[key].getSN()                              # calculamos el S/N de la observación\n",
    "    file = key.replace(\".fits\", \".pfd\")\n",
    "    list.write(file + \"   \" + str(sn_obs) + \"   \" + str(time) + \"\\n\")  # y escribimos el S/N y el t_obs en el archivo de salida\n",
    "        \n",
    "list.close()                                                       # cerramos el archivo de salida"
   ]
  },
  {
   "cell_type": "markdown",
   "metadata": {},
   "source": [
    "Una vez que tenemos los datos para las observaciones de ambas antenas, podemos juntarlos en un único archivo"
   ]
  },
  {
   "cell_type": "code",
   "execution_count": null,
   "metadata": {
    "collapsed": true
   },
   "outputs": [],
   "source": [
    "filenames = ['results_A1.txt', 'results_A2.txt', ...]\n",
    "with open(\"./results_total.txt\", 'w') as outfile:\n",
    "    for fname in filenames:\n",
    "        with open(fname) as infile:\n",
    "            for line in infile:\n",
    "                outfile.write(line)\n"
   ]
  }
 ],
 "metadata": {
  "kernelspec": {
   "display_name": "Python 3",
   "language": "python",
   "name": "python3"
  },
  "language_info": {
   "codemirror_mode": {
    "name": "ipython",
    "version": 3
   },
   "file_extension": ".py",
   "mimetype": "text/x-python",
   "name": "python",
   "nbconvert_exporter": "python",
   "pygments_lexer": "ipython3",
   "version": "3.6.2"
  }
 },
 "nbformat": 4,
 "nbformat_minor": 4
}
